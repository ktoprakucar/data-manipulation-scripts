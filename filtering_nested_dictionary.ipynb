{
 "cells": [
  {
   "cell_type": "code",
   "execution_count": 1,
   "id": "25c7f241",
   "metadata": {},
   "outputs": [],
   "source": [
    "people = {'david': {'age': 15,\n",
    "                    'city': 'london',\n",
    "                    'salary': 50000},\n",
    "          'guillaume': {'age': 24,\n",
    "                        'city': 'paris',\n",
    "                        'salary': 80000},\n",
    "          'mark': {'age': 46,\n",
    "                   'city': 'berlin',\n",
    "                   'salary': 30000},\n",
    "          'jennifer': {'age': 29,\n",
    "                       'city': 'paris',\n",
    "                       'salary': 65000},\n",
    "          'gulin': {'age': 42,\n",
    "                    'city': 'istanbul',\n",
    "                    'salary': 100000},\n",
    "          'kimberley': {'age': 25,\n",
    "                        'city': 'new york',\n",
    "                        'salary': 20000},\n",
    "          'michael': {'age': 31,\n",
    "                      'city': 'stockholm',\n",
    "                      'salary': 120000},\n",
    "          'omar': {'age': 56,\n",
    "                   'city': 'tunis',\n",
    "                   'salary': 82000},\n",
    "          'oliver': {'age': 29,\n",
    "                     'city': 'munich',\n",
    "                     'salary': 39000},\n",
    "          }"
   ]
  },
  {
   "cell_type": "code",
   "execution_count": 2,
   "id": "3e81e469",
   "metadata": {},
   "outputs": [
    {
     "data": {
      "text/plain": [
       "{'guillaume': {'age': 24, 'city': 'paris', 'salary': 80000},\n",
       " 'mark': {'age': 46, 'city': 'berlin', 'salary': 30000},\n",
       " 'jennifer': {'age': 29, 'city': 'paris', 'salary': 65000},\n",
       " 'gulin': {'age': 42, 'city': 'istanbul', 'salary': 100000},\n",
       " 'kimberley': {'age': 25, 'city': 'new york', 'salary': 20000},\n",
       " 'michael': {'age': 31, 'city': 'stockholm', 'salary': 120000},\n",
       " 'omar': {'age': 56, 'city': 'tunis', 'salary': 82000},\n",
       " 'oliver': {'age': 29, 'city': 'munich', 'salary': 39000}}"
      ]
     },
     "execution_count": 2,
     "metadata": {},
     "output_type": "execute_result"
    }
   ],
   "source": [
    "dict(filter(lambda x: x[1]['age'] > 20, people.items()))"
   ]
  },
  {
   "cell_type": "code",
   "execution_count": 3,
   "id": "794a1ec8",
   "metadata": {},
   "outputs": [
    {
     "data": {
      "text/plain": [
       "{'david': {'age': 15, 'city': 'london', 'salary': 50000},\n",
       " 'gulin': {'age': 42, 'city': 'istanbul', 'salary': 100000}}"
      ]
     },
     "execution_count": 3,
     "metadata": {},
     "output_type": "execute_result"
    }
   ],
   "source": [
    "dict(filter(lambda x: len(x[0]) == 5, people.items()))"
   ]
  }
 ],
 "metadata": {
  "kernelspec": {
   "display_name": "Python 3 (ipykernel)",
   "language": "python",
   "name": "python3"
  },
  "language_info": {
   "codemirror_mode": {
    "name": "ipython",
    "version": 3
   },
   "file_extension": ".py",
   "mimetype": "text/x-python",
   "name": "python",
   "nbconvert_exporter": "python",
   "pygments_lexer": "ipython3",
   "version": "3.9.16"
  }
 },
 "nbformat": 4,
 "nbformat_minor": 5
}
