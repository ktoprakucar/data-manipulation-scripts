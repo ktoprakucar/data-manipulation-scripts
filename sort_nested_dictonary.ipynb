{
 "cells": [
  {
   "cell_type": "code",
   "execution_count": 1,
   "id": "28b59ad1",
   "metadata": {},
   "outputs": [],
   "source": [
    "people = {'david': {'age': 15,\n",
    "                    'city': 'london',\n",
    "                    'salary': 50000},\n",
    "          'guillaume': {'age': 24,\n",
    "                        'city': 'paris',\n",
    "                        'salary': 80000},\n",
    "          'mark': {'age': 46,\n",
    "                   'city': 'berlin',\n",
    "                   'salary': 30000},\n",
    "          'jennifer': {'age': 29,\n",
    "                       'city': 'paris',\n",
    "                       'salary': 65000},\n",
    "          'gulin': {'age': 42,\n",
    "                    'city': 'istanbul',\n",
    "                    'salary': 100000},\n",
    "          'kimberley': {'age': 25,\n",
    "                        'city': 'new york',\n",
    "                        'salary': 20000},\n",
    "          'michael': {'age': 31,\n",
    "                      'city': 'stockholm',\n",
    "                      'salary': 120000},\n",
    "          'omar': {'age': 56,\n",
    "                   'city': 'tunis',\n",
    "                   'salary': 82000},\n",
    "          'oliver': {'age': 29,\n",
    "                     'city': 'munich',\n",
    "                     'salary': 39000},\n",
    "          }"
   ]
  },
  {
   "cell_type": "code",
   "execution_count": 2,
   "id": "dc94678a",
   "metadata": {},
   "outputs": [
    {
     "data": {
      "text/plain": [
       "{'omar': {'age': 56, 'city': 'tunis', 'salary': 82000},\n",
       " 'mark': {'age': 46, 'city': 'berlin', 'salary': 30000},\n",
       " 'gulin': {'age': 42, 'city': 'istanbul', 'salary': 100000},\n",
       " 'michael': {'age': 31, 'city': 'stockholm', 'salary': 120000},\n",
       " 'jennifer': {'age': 29, 'city': 'paris', 'salary': 65000},\n",
       " 'oliver': {'age': 29, 'city': 'munich', 'salary': 39000},\n",
       " 'kimberley': {'age': 25, 'city': 'new york', 'salary': 20000},\n",
       " 'guillaume': {'age': 24, 'city': 'paris', 'salary': 80000},\n",
       " 'david': {'age': 15, 'city': 'london', 'salary': 50000}}"
      ]
     },
     "execution_count": 2,
     "metadata": {},
     "output_type": "execute_result"
    }
   ],
   "source": [
    "dict(sorted(people.items(), key=lambda x: x[1]['age'], reverse=True))"
   ]
  },
  {
   "cell_type": "code",
   "execution_count": 3,
   "id": "db20444a",
   "metadata": {},
   "outputs": [
    {
     "data": {
      "text/plain": [
       "{'omar': {'age': 56, 'city': 'tunis', 'salary': 82000},\n",
       " 'oliver': {'age': 29, 'city': 'munich', 'salary': 39000},\n",
       " 'michael': {'age': 31, 'city': 'stockholm', 'salary': 120000},\n",
       " 'mark': {'age': 46, 'city': 'berlin', 'salary': 30000},\n",
       " 'kimberley': {'age': 25, 'city': 'new york', 'salary': 20000},\n",
       " 'jennifer': {'age': 29, 'city': 'paris', 'salary': 65000},\n",
       " 'gulin': {'age': 42, 'city': 'istanbul', 'salary': 100000},\n",
       " 'guillaume': {'age': 24, 'city': 'paris', 'salary': 80000},\n",
       " 'david': {'age': 15, 'city': 'london', 'salary': 50000}}"
      ]
     },
     "execution_count": 3,
     "metadata": {},
     "output_type": "execute_result"
    }
   ],
   "source": [
    "dict(sorted(people.items(), key=lambda x: x[0], reverse=True))"
   ]
  }
 ],
 "metadata": {
  "kernelspec": {
   "display_name": "Python 3 (ipykernel)",
   "language": "python",
   "name": "python3"
  },
  "language_info": {
   "codemirror_mode": {
    "name": "ipython",
    "version": 3
   },
   "file_extension": ".py",
   "mimetype": "text/x-python",
   "name": "python",
   "nbconvert_exporter": "python",
   "pygments_lexer": "ipython3",
   "version": "3.9.16"
  }
 },
 "nbformat": 4,
 "nbformat_minor": 5
}
